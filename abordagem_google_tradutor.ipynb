{
 "cells": [
  {
   "cell_type": "code",
   "execution_count": 2,
   "metadata": {},
   "outputs": [],
   "source": [
    "import json\n",
    "import re"
   ]
  },
  {
   "attachments": {},
   "cell_type": "markdown",
   "metadata": {},
   "source": [
    "# Cria arquivo com as falas em inglês"
   ]
  },
  {
   "cell_type": "code",
   "execution_count": 23,
   "metadata": {},
   "outputs": [],
   "source": [
    "f_leitura =  open('enGB.json', encoding='utf-8')\n",
    "for _ in range(3):\n",
    "    f_leitura.readline()"
   ]
  },
  {
   "cell_type": "code",
   "execution_count": 24,
   "metadata": {},
   "outputs": [],
   "source": [
    "with open('frases_ingles.txt', 'w', encoding='utf-8') as f_escrita:\n",
    "\n",
    "    linha_util = f_leitura.readline()\n",
    "    while linha_util and (not linha_util.endswith('}\\n')):\n",
    "        texto = re.split(':', linha_util, maxsplit=1)[1]\n",
    "        texto_limpo = texto.rstrip(',\\n').strip().strip('\"')\n",
    "        \n",
    "        f_escrita.write(texto_limpo + '\\n')    \n",
    "        \n",
    "        linha_util = f_leitura.readline()"
   ]
  },
  {
   "attachments": {},
   "cell_type": "markdown",
   "metadata": {},
   "source": [
    "# Cria arquivo json com as falas traduzidas"
   ]
  },
  {
   "cell_type": "code",
   "execution_count": 3,
   "metadata": {},
   "outputs": [],
   "source": [
    "def get_lista_ordenada_ids():\n",
    "    f_leitura =  open('enGB.json', encoding='utf-8')\n",
    "    for _ in range(3):\n",
    "        f_leitura.readline()\n",
    "\n",
    "    lista_ids = []\n",
    "    linha_util = f_leitura.readline()\n",
    "    while linha_util and (not linha_util.endswith('}\\n')):\n",
    "        texto = re.split(':', linha_util, maxsplit=1)[0]\n",
    "        id_ = texto.strip().strip('\"')\n",
    "        lista_ids.append(id_)\n",
    "        linha_util = f_leitura.readline()\n",
    "    \n",
    "    return lista_ids"
   ]
  },
  {
   "cell_type": "code",
   "execution_count": 12,
   "metadata": {},
   "outputs": [],
   "source": [
    "# leitura do arquivo enGB.json\n",
    "texto_estruturado = {\n",
    "    \"$id\": \"1\",\n",
    "    \"strings\": {}\n",
    "}\n",
    "\n",
    "lista_ids = get_lista_ordenada_ids()\n",
    "\n",
    "# leitura das frases traduzidas\n",
    "with open('frases-completo.txt', 'r', encoding='utf-8') as f:\n",
    "    # insere cada fala traduzida dentro\n",
    "\n",
    "    i=0\n",
    "    texto_traduzido = f.readline()[:-1]\n",
    "    while texto_traduzido:\n",
    "        id = lista_ids[i]\n",
    "        texto_estruturado['strings'][id] = texto_traduzido\n",
    "\n",
    "        texto_traduzido = f.readline()[:-1]\n",
    "        i += 1\n",
    "\n",
    "# escreve o texto estruturado em um arquivo json\n",
    "with open('ptGB-gt.json', 'w', encoding='utf-8') as f:\n",
    "    json.dump(texto_estruturado, f, ensure_ascii=False)"
   ]
  }
 ],
 "metadata": {
  "kernelspec": {
   "display_name": "Python 3",
   "language": "python",
   "name": "python3"
  },
  "language_info": {
   "codemirror_mode": {
    "name": "ipython",
    "version": 3
   },
   "file_extension": ".py",
   "mimetype": "text/x-python",
   "name": "python",
   "nbconvert_exporter": "python",
   "pygments_lexer": "ipython3",
   "version": "3.11.2"
  },
  "orig_nbformat": 4
 },
 "nbformat": 4,
 "nbformat_minor": 2
}
