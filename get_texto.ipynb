{
 "cells": [
  {
   "cell_type": "code",
   "execution_count": 22,
   "metadata": {},
   "outputs": [],
   "source": [
    "import json\n",
    "import re"
   ]
  },
  {
   "cell_type": "code",
   "execution_count": 23,
   "metadata": {},
   "outputs": [],
   "source": [
    "f_leitura =  open('enGB.json', encoding='utf-8')\n",
    "for _ in range(3):\n",
    "    f_leitura.readline()"
   ]
  },
  {
   "cell_type": "code",
   "execution_count": 24,
   "metadata": {},
   "outputs": [],
   "source": [
    "with open('frases_ingles.txt', 'w', encoding='utf-8') as f_escrita:\n",
    "\n",
    "    linha_util = f_leitura.readline()\n",
    "    while linha_util and (not linha_util.endswith('}\\n')):\n",
    "        texto = re.split(':', linha_util, maxsplit=1)[1]\n",
    "        texto_limpo = texto.rstrip(',\\n').strip().strip('\"')\n",
    "        \n",
    "        f_escrita.write(texto_limpo + '\\n')    \n",
    "        \n",
    "        linha_util = f_leitura.readline()"
   ]
  }
 ],
 "metadata": {
  "kernelspec": {
   "display_name": "Python 3",
   "language": "python",
   "name": "python3"
  },
  "language_info": {
   "codemirror_mode": {
    "name": "ipython",
    "version": 3
   },
   "file_extension": ".py",
   "mimetype": "text/x-python",
   "name": "python",
   "nbconvert_exporter": "python",
   "pygments_lexer": "ipython3",
   "version": "3.11.2"
  },
  "orig_nbformat": 4
 },
 "nbformat": 4,
 "nbformat_minor": 2
}
